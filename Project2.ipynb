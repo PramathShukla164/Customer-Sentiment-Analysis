{
 "cells": [
  {
   "cell_type": "code",
   "execution_count": 1,
   "id": "eb90f28d-7818-4e9d-8d13-f59234c51a98",
   "metadata": {
    "tags": []
   },
   "outputs": [],
   "source": [
    "import warnings\n",
    "warnings.filterwarnings('ignore')"
   ]
  },
  {
   "cell_type": "code",
   "execution_count": 2,
   "id": "09bee2d7-1bc8-4f22-8a9f-26f3b0200c8a",
   "metadata": {
    "tags": []
   },
   "outputs": [],
   "source": [
    "# Background\n",
    "'''\n",
    "In this project I am presenting an effective way to do sentiment analysis. It is often the case that companies need to understand about the sentiments of the users\n",
    "based on their reviews and ratings. Through this project, I am developing an effective natural language processing model that would perfrom sentiment analysis of \n",
    "the readily available dataset. The name of the dataset is \"Reviews.csv\".\n",
    "Sentiment analysis is the process of 'computationally' determining whether a piece of writing is positive, negative or neutral. \n",
    "Sentiment Analysis is an effective tool to improve the company standards and sales in general. It provides a way to know what customers feel about certain products \n",
    "and using the Reviews we can detect further into what specifically needs to be worked upon to keep the customers satisfied and keep the sales going. \n",
    "Here I am building a model which perform sentiment analysis. It detects what are user sentiments for certain products that they have purchased online through Amazon. \n",
    "Since, Amazon is the largest online store, it would provide us great details on understanding how the customers react or specifically what are the sentiments of \n",
    "customers when they like or dislike a product they purchased on the site. \n",
    "''';"
   ]
  },
  {
   "cell_type": "code",
   "execution_count": 3,
   "id": "3a905404-6b9c-4dfa-9521-8ac4dbfb72ef",
   "metadata": {
    "tags": []
   },
   "outputs": [],
   "source": [
    "# Problem\n",
    "'''\n",
    "Our problem is that we need to understand the sentiments of the consumers to improve our sales. It is often the case that this is the most direct and effective way \n",
    "to know what customers feel about the products of the company. If there are higher ratings and the general sentiment of the buyers is high, then it concludes that people are \n",
    "liking the products of the company in general. Vice-versa, if the sentiments of the buyers is more towards the negative side, then it simply means that the company needs to upgrade and improve\n",
    "its services. \n",
    "Moreover, our specific problem is that we want to know what is the general opinion or sentiment of the buyers at Amazon is for the products purchased. We can perform sentiment analysis and know\n",
    "the general opinion of the consumers at Amazon and that would rather, help us know how well Amazon is doing. \n",
    "Therefore, sentiment analysis becomes handy in such important scenerio. \n",
    "''';"
   ]
  },
  {
   "cell_type": "code",
   "execution_count": 4,
   "id": "6862ddc8-0d4b-41d8-ad64-3b2a66f93d35",
   "metadata": {
    "tags": []
   },
   "outputs": [],
   "source": [
    "# import libraries \n",
    "\n",
    "# Read Data \n",
    "import pandas as pd\n",
    "import numpy as np\n",
    "import matplotlib.pyplot as plt\n",
    "import seaborn as sns\n",
    "\n",
    "# use ggplot \n",
    "plt.style.use('ggplot')\n",
    "\n",
    "# NLTK Natural language tool kit\n",
    "import nltk"
   ]
  },
  {
   "cell_type": "code",
   "execution_count": 5,
   "id": "10085c7b-28ed-45b1-906f-da768226c7b8",
   "metadata": {
    "tags": []
   },
   "outputs": [
    {
     "name": "stdout",
     "output_type": "stream",
     "text": [
      "(568454, 10)\n",
      "(400, 10)\n"
     ]
    },
    {
     "data": {
      "text/html": [
       "<div>\n",
       "<style scoped>\n",
       "    .dataframe tbody tr th:only-of-type {\n",
       "        vertical-align: middle;\n",
       "    }\n",
       "\n",
       "    .dataframe tbody tr th {\n",
       "        vertical-align: top;\n",
       "    }\n",
       "\n",
       "    .dataframe thead th {\n",
       "        text-align: right;\n",
       "    }\n",
       "</style>\n",
       "<table border=\"1\" class=\"dataframe\">\n",
       "  <thead>\n",
       "    <tr style=\"text-align: right;\">\n",
       "      <th></th>\n",
       "      <th>Id</th>\n",
       "      <th>ProductId</th>\n",
       "      <th>UserId</th>\n",
       "      <th>ProfileName</th>\n",
       "      <th>HelpfulnessNumerator</th>\n",
       "      <th>HelpfulnessDenominator</th>\n",
       "      <th>Score</th>\n",
       "      <th>Time</th>\n",
       "      <th>Summary</th>\n",
       "      <th>Text</th>\n",
       "    </tr>\n",
       "  </thead>\n",
       "  <tbody>\n",
       "    <tr>\n",
       "      <th>0</th>\n",
       "      <td>1</td>\n",
       "      <td>B001E4KFG0</td>\n",
       "      <td>A3SGXH7AUHU8GW</td>\n",
       "      <td>delmartian</td>\n",
       "      <td>1</td>\n",
       "      <td>1</td>\n",
       "      <td>5</td>\n",
       "      <td>1303862400</td>\n",
       "      <td>Good Quality Dog Food</td>\n",
       "      <td>I have bought several of the Vitality canned d...</td>\n",
       "    </tr>\n",
       "    <tr>\n",
       "      <th>1</th>\n",
       "      <td>2</td>\n",
       "      <td>B00813GRG4</td>\n",
       "      <td>A1D87F6ZCVE5NK</td>\n",
       "      <td>dll pa</td>\n",
       "      <td>0</td>\n",
       "      <td>0</td>\n",
       "      <td>1</td>\n",
       "      <td>1346976000</td>\n",
       "      <td>Not as Advertised</td>\n",
       "      <td>Product arrived labeled as Jumbo Salted Peanut...</td>\n",
       "    </tr>\n",
       "    <tr>\n",
       "      <th>2</th>\n",
       "      <td>3</td>\n",
       "      <td>B000LQOCH0</td>\n",
       "      <td>ABXLMWJIXXAIN</td>\n",
       "      <td>Natalia Corres \"Natalia Corres\"</td>\n",
       "      <td>1</td>\n",
       "      <td>1</td>\n",
       "      <td>4</td>\n",
       "      <td>1219017600</td>\n",
       "      <td>\"Delight\" says it all</td>\n",
       "      <td>This is a confection that has been around a fe...</td>\n",
       "    </tr>\n",
       "    <tr>\n",
       "      <th>3</th>\n",
       "      <td>4</td>\n",
       "      <td>B000UA0QIQ</td>\n",
       "      <td>A395BORC6FGVXV</td>\n",
       "      <td>Karl</td>\n",
       "      <td>3</td>\n",
       "      <td>3</td>\n",
       "      <td>2</td>\n",
       "      <td>1307923200</td>\n",
       "      <td>Cough Medicine</td>\n",
       "      <td>If you are looking for the secret ingredient i...</td>\n",
       "    </tr>\n",
       "    <tr>\n",
       "      <th>4</th>\n",
       "      <td>5</td>\n",
       "      <td>B006K2ZZ7K</td>\n",
       "      <td>A1UQRSCLF8GW1T</td>\n",
       "      <td>Michael D. Bigham \"M. Wassir\"</td>\n",
       "      <td>0</td>\n",
       "      <td>0</td>\n",
       "      <td>5</td>\n",
       "      <td>1350777600</td>\n",
       "      <td>Great taffy</td>\n",
       "      <td>Great taffy at a great price.  There was a wid...</td>\n",
       "    </tr>\n",
       "  </tbody>\n",
       "</table>\n",
       "</div>"
      ],
      "text/plain": [
       "   Id   ProductId          UserId                      ProfileName  \\\n",
       "0   1  B001E4KFG0  A3SGXH7AUHU8GW                       delmartian   \n",
       "1   2  B00813GRG4  A1D87F6ZCVE5NK                           dll pa   \n",
       "2   3  B000LQOCH0   ABXLMWJIXXAIN  Natalia Corres \"Natalia Corres\"   \n",
       "3   4  B000UA0QIQ  A395BORC6FGVXV                             Karl   \n",
       "4   5  B006K2ZZ7K  A1UQRSCLF8GW1T    Michael D. Bigham \"M. Wassir\"   \n",
       "\n",
       "   HelpfulnessNumerator  HelpfulnessDenominator  Score        Time  \\\n",
       "0                     1                       1      5  1303862400   \n",
       "1                     0                       0      1  1346976000   \n",
       "2                     1                       1      4  1219017600   \n",
       "3                     3                       3      2  1307923200   \n",
       "4                     0                       0      5  1350777600   \n",
       "\n",
       "                 Summary                                               Text  \n",
       "0  Good Quality Dog Food  I have bought several of the Vitality canned d...  \n",
       "1      Not as Advertised  Product arrived labeled as Jumbo Salted Peanut...  \n",
       "2  \"Delight\" says it all  This is a confection that has been around a fe...  \n",
       "3         Cough Medicine  If you are looking for the secret ingredient i...  \n",
       "4            Great taffy  Great taffy at a great price.  There was a wid...  "
      ]
     },
     "execution_count": 5,
     "metadata": {},
     "output_type": "execute_result"
    }
   ],
   "source": [
    "# Dataset up\n",
    "\n",
    "# Read data\n",
    "df = pd.read_csv('Reviews.csv')\n",
    "\n",
    "# Let's see the shape of our dataset\n",
    "print(df.shape)\n",
    "\n",
    "df = df.head(400)\n",
    "print(df.shape)\n",
    "\n",
    "# dataframe head\n",
    "df.head()\n",
    "\n"
   ]
  },
  {
   "cell_type": "code",
   "execution_count": 6,
   "id": "17c7da4a-2c82-4117-9623-ffd8b21ac2f7",
   "metadata": {
    "tags": []
   },
   "outputs": [],
   "source": [
    "'''\n",
    "The dataset contains 10 variables. The 10th variable called 'Text'is the one used for sentiment analysis. We will run our model on that column to evaluate the \n",
    "customer sentiment. \n",
    "Moreover, we can see that the shape of the dataset is very large. It is almost equal to half a million. Therefore, we will be shrinking it it 400 rows for \n",
    "better build up and analysis. \n",
    "Lastly, I are printing the head of the dataframe to visualize our dataset. \n",
    "Now, lets do some analysis on the dataset\n",
    "''';"
   ]
  },
  {
   "cell_type": "code",
   "execution_count": 88,
   "id": "69663b8d-57e9-4530-9394-425013f34319",
   "metadata": {
    "tags": []
   },
   "outputs": [
    {
     "data": {
      "image/png": "[encoded data removed]",
      "text/plain": [
       "<Figure size 1000x500 with 1 Axes>"
      ]
     },
     "metadata": {},
     "output_type": "display_data"
    }
   ],
   "source": [
    "# Data Analysis\n",
    "'''\n",
    "Its important to know what are the reviews by the customers based on the stars they have given to various products bought online. This will helps us know \n",
    "what is the general sentiment of the public as whole on the products sold by the company. Higher ratings in general speak that the company's product are \n",
    "liked by the customers and if the case is other way around then, it simply means that the company needs to improve on its product quality or price per se. \n",
    "I am making a plot of stars given by public based on their frequency in the dataset. \n",
    "'''\n",
    "axis = df['Score'].value_counts().sort_index().plot(kind='bar',\n",
    "          title = 'Star ratings',\n",
    "          figsize=(10,5))\n",
    "axis.set_xlabel('Stars')\n",
    "axis.set_ylabel('frequency')\n",
    "plt.show()\n",
    "\n"
   ]
  },
  {
   "cell_type": "code",
   "execution_count": null,
   "id": "3fe2bf03-8266-43e5-8c12-966067c6fcb8",
   "metadata": {},
   "outputs": [],
   "source": [
    "# As we can see that more people have given 5 star ratings for the products and that is a good indicator that we can expect more positive sentiments from the public. \n",
    "# We can make our assumption concrete by utilizing the pretrained models and by training our dataset. "
   ]
  },
  {
   "cell_type": "code",
   "execution_count": 7,
   "id": "e53a7aff-752b-44fb-a899-5a4e7a6c93c5",
   "metadata": {
    "tags": []
   },
   "outputs": [],
   "source": [
    "# Sentiment analysis through VADER\n",
    "# VADER (Valence Aware Dictionary for Sentiment Reasoning) is an NLTK module that provides sentiment scores based on the words used. It is a lexicone and rule-based sentiment analysis tool that is specifically \n",
    "# attuned to setiments expressed in social media and works on texts from other domains. \n",
    "# This uses a \"bag of words\" approach:\n",
    "# 1. Stop words are removed like 'and', 'or', 'is' that have no meaning to the sentiment\n",
    "# 2. Each word is scored and combined to a total score. "
   ]
  },
  {
   "cell_type": "code",
   "execution_count": 8,
   "id": "6d6e99c2-9763-4c5e-87c9-5824ec3d11c3",
   "metadata": {
    "tags": []
   },
   "outputs": [],
   "source": [
    "from nltk.sentiment import SentimentIntensityAnalyzer\n",
    "from tqdm.notebook import tqdm\n",
    "\n",
    "analyzer = SentimentIntensityAnalyzer()"
   ]
  },
  {
   "cell_type": "code",
   "execution_count": 10,
   "id": "8a876faa-5700-4cee-8596-60c6b44d9123",
   "metadata": {
    "tags": []
   },
   "outputs": [
    {
     "data": {
      "application/vnd.jupyter.widget-view+json": {
       "model_id": "0c9e8808f93b42b5bb167fbf50692248",
       "version_major": 2,
       "version_minor": 0
      },
      "text/plain": [
       "  0%|          | 0/400 [00:00<?, ?it/s]"
      ]
     },
     "metadata": {},
     "output_type": "display_data"
    }
   ],
   "source": [
    "# Run the polarity score on entire data set\n",
    "res = {}  # Dictionary to store the results\n",
    "for i, row in tqdm(df.iterrows(), total=len(df)):\n",
    "    text_ = row['Text']\n",
    "    myid = row['Id']\n",
    "    res[myid] = analyzer.polarity_scores(text_)"
   ]
  },
  {
   "cell_type": "code",
   "execution_count": 12,
   "id": "a2bf4f49-3f91-486b-a44c-83fd1b87f372",
   "metadata": {
    "tags": []
   },
   "outputs": [
    {
     "data": {
      "text/html": [
       "<div>\n",
       "<style scoped>\n",
       "    .dataframe tbody tr th:only-of-type {\n",
       "        vertical-align: middle;\n",
       "    }\n",
       "\n",
       "    .dataframe tbody tr th {\n",
       "        vertical-align: top;\n",
       "    }\n",
       "\n",
       "    .dataframe thead th {\n",
       "        text-align: right;\n",
       "    }\n",
       "</style>\n",
       "<table border=\"1\" class=\"dataframe\">\n",
       "  <thead>\n",
       "    <tr style=\"text-align: right;\">\n",
       "      <th></th>\n",
       "      <th>Id</th>\n",
       "      <th>neg</th>\n",
       "      <th>neu</th>\n",
       "      <th>pos</th>\n",
       "      <th>compound</th>\n",
       "      <th>ProductId</th>\n",
       "      <th>UserId</th>\n",
       "      <th>ProfileName</th>\n",
       "      <th>HelpfulnessNumerator</th>\n",
       "      <th>HelpfulnessDenominator</th>\n",
       "      <th>Score</th>\n",
       "      <th>Time</th>\n",
       "      <th>Summary</th>\n",
       "      <th>Text</th>\n",
       "    </tr>\n",
       "  </thead>\n",
       "  <tbody>\n",
       "    <tr>\n",
       "      <th>0</th>\n",
       "      <td>1</td>\n",
       "      <td>0.000</td>\n",
       "      <td>0.695</td>\n",
       "      <td>0.305</td>\n",
       "      <td>0.9441</td>\n",
       "      <td>B001E4KFG0</td>\n",
       "      <td>A3SGXH7AUHU8GW</td>\n",
       "      <td>delmartian</td>\n",
       "      <td>1</td>\n",
       "      <td>1</td>\n",
       "      <td>5</td>\n",
       "      <td>1303862400</td>\n",
       "      <td>Good Quality Dog Food</td>\n",
       "      <td>I have bought several of the Vitality canned d...</td>\n",
       "    </tr>\n",
       "    <tr>\n",
       "      <th>1</th>\n",
       "      <td>2</td>\n",
       "      <td>0.138</td>\n",
       "      <td>0.862</td>\n",
       "      <td>0.000</td>\n",
       "      <td>-0.5664</td>\n",
       "      <td>B00813GRG4</td>\n",
       "      <td>A1D87F6ZCVE5NK</td>\n",
       "      <td>dll pa</td>\n",
       "      <td>0</td>\n",
       "      <td>0</td>\n",
       "      <td>1</td>\n",
       "      <td>1346976000</td>\n",
       "      <td>Not as Advertised</td>\n",
       "      <td>Product arrived labeled as Jumbo Salted Peanut...</td>\n",
       "    </tr>\n",
       "    <tr>\n",
       "      <th>2</th>\n",
       "      <td>3</td>\n",
       "      <td>0.091</td>\n",
       "      <td>0.754</td>\n",
       "      <td>0.155</td>\n",
       "      <td>0.8265</td>\n",
       "      <td>B000LQOCH0</td>\n",
       "      <td>ABXLMWJIXXAIN</td>\n",
       "      <td>Natalia Corres \"Natalia Corres\"</td>\n",
       "      <td>1</td>\n",
       "      <td>1</td>\n",
       "      <td>4</td>\n",
       "      <td>1219017600</td>\n",
       "      <td>\"Delight\" says it all</td>\n",
       "      <td>This is a confection that has been around a fe...</td>\n",
       "    </tr>\n",
       "    <tr>\n",
       "      <th>3</th>\n",
       "      <td>4</td>\n",
       "      <td>0.000</td>\n",
       "      <td>1.000</td>\n",
       "      <td>0.000</td>\n",
       "      <td>0.0000</td>\n",
       "      <td>B000UA0QIQ</td>\n",
       "      <td>A395BORC6FGVXV</td>\n",
       "      <td>Karl</td>\n",
       "      <td>3</td>\n",
       "      <td>3</td>\n",
       "      <td>2</td>\n",
       "      <td>1307923200</td>\n",
       "      <td>Cough Medicine</td>\n",
       "      <td>If you are looking for the secret ingredient i...</td>\n",
       "    </tr>\n",
       "    <tr>\n",
       "      <th>4</th>\n",
       "      <td>5</td>\n",
       "      <td>0.000</td>\n",
       "      <td>0.552</td>\n",
       "      <td>0.448</td>\n",
       "      <td>0.9468</td>\n",
       "      <td>B006K2ZZ7K</td>\n",
       "      <td>A1UQRSCLF8GW1T</td>\n",
       "      <td>Michael D. Bigham \"M. Wassir\"</td>\n",
       "      <td>0</td>\n",
       "      <td>0</td>\n",
       "      <td>5</td>\n",
       "      <td>1350777600</td>\n",
       "      <td>Great taffy</td>\n",
       "      <td>Great taffy at a great price.  There was a wid...</td>\n",
       "    </tr>\n",
       "  </tbody>\n",
       "</table>\n",
       "</div>"
      ],
      "text/plain": [
       "   Id    neg    neu    pos  compound   ProductId          UserId  \\\n",
       "0   1  0.000  0.695  0.305    0.9441  B001E4KFG0  A3SGXH7AUHU8GW   \n",
       "1   2  0.138  0.862  0.000   -0.5664  B00813GRG4  A1D87F6ZCVE5NK   \n",
       "2   3  0.091  0.754  0.155    0.8265  B000LQOCH0   ABXLMWJIXXAIN   \n",
       "3   4  0.000  1.000  0.000    0.0000  B000UA0QIQ  A395BORC6FGVXV   \n",
       "4   5  0.000  0.552  0.448    0.9468  B006K2ZZ7K  A1UQRSCLF8GW1T   \n",
       "\n",
       "                       ProfileName  HelpfulnessNumerator  \\\n",
       "0                       delmartian                     1   \n",
       "1                           dll pa                     0   \n",
       "2  Natalia Corres \"Natalia Corres\"                     1   \n",
       "3                             Karl                     3   \n",
       "4    Michael D. Bigham \"M. Wassir\"                     0   \n",
       "\n",
       "   HelpfulnessDenominator  Score        Time                Summary  \\\n",
       "0                       1      5  1303862400  Good Quality Dog Food   \n",
       "1                       0      1  1346976000      Not as Advertised   \n",
       "2                       1      4  1219017600  \"Delight\" says it all   \n",
       "3                       3      2  1307923200         Cough Medicine   \n",
       "4                       0      5  1350777600            Great taffy   \n",
       "\n",
       "                                                Text  \n",
       "0  I have bought several of the Vitality canned d...  \n",
       "1  Product arrived labeled as Jumbo Salted Peanut...  \n",
       "2  This is a confection that has been around a fe...  \n",
       "3  If you are looking for the secret ingredient i...  \n",
       "4  Great taffy at a great price.  There was a wid...  "
      ]
     },
     "execution_count": 12,
     "metadata": {},
     "output_type": "execute_result"
    }
   ],
   "source": [
    "vadersResult = pd.DataFrame(res).T\n",
    "vadersResult = vadersResult.reset_index().rename(columns = {'index': 'Id'})\n",
    "vadersResult = vadersResult.merge(df, how='left')\n",
    "vadersResult.head()"
   ]
  },
  {
   "cell_type": "code",
   "execution_count": 13,
   "id": "35cccc60-db56-46b4-b15f-3c6a33f73fb8",
   "metadata": {
    "tags": []
   },
   "outputs": [
    {
     "data": {
      "image/png": "[encoded data removed]",
      "text/plain": [
       "<Figure size 640x480 with 1 Axes>"
      ]
     },
     "metadata": {},
     "output_type": "display_data"
    }
   ],
   "source": [
    "# Plot vaders result\n",
    "axis = sns.barplot(data = vadersResult, x='Score', y = 'compound')\n",
    "axis.set_title('Compound Score')\n",
    "plt.show()"
   ]
  },
  {
   "cell_type": "code",
   "execution_count": null,
   "id": "d321aab1-dd79-499a-bb41-3e268f1e1f39",
   "metadata": {},
   "outputs": [],
   "source": [
    "# The above barplot displays the compound scores. The compound scores displays the result of the vaders model. \n",
    "# It shows the compound value of the ratings. The compound value signifies the star ratings given by public. The compound score signifies a value from -1 to +1.  \n",
    "# It can be any number between this range. Though, it depends on the ratings however, more negative the rating, lower is the compound score. \n",
    "# As it is apparent that the compound score is <= 0 for 1 star ratings. \n",
    "# Hence, it is signifies that our model is built well. \n",
    "# Now, lets see the positive, neutral and negative scores as well to get better understanding of results. "
   ]
  },
  {
   "cell_type": "code",
   "execution_count": 77,
   "id": "afbdac15-56f4-4575-a0fe-dfdacc1a2b49",
   "metadata": {
    "tags": []
   },
   "outputs": [
    {
     "data": {
      "image/png": "[encoded data removed]",
      "text/plain": [
       "<Figure size 1500x500 with 3 Axes>"
      ]
     },
     "metadata": {},
     "output_type": "display_data"
    }
   ],
   "source": [
    "fig, axs = plt.subplots(1,3, figsize=(15,5))\n",
    "sns.barplot(data=vadersResult, x='Score', y = 'pos', ax = axs[0])\n",
    "sns.barplot(data=vadersResult, x='Score', y = 'neu', ax = axs[1])\n",
    "sns.barplot(data=vadersResult, x='Score', y = 'neg', ax = axs[2])\n",
    "axs[0].set_title('Positive')\n",
    "axs[1].set_title('Neutral')\n",
    "axs[2].set_title('Negative')\n",
    "plt.show()"
   ]
  },
  {
   "cell_type": "code",
   "execution_count": null,
   "id": "2c2e8817-70ad-4464-b0cb-10ee152c4f73",
   "metadata": {},
   "outputs": [],
   "source": [
    "# The above bar plots show the Positive, Neutral and Negative scores given by the model based on the analysis of how \n",
    "# much the rating was positive, negative or neutral. The positive text reviews have high scores, whereas, the high negative text reviews have low scores. \n",
    "# Thus, our model is able to differentiate between the positive and negative sentiments of the buyers based on the text reviews given to the respective products. "
   ]
  },
  {
   "cell_type": "code",
   "execution_count": 14,
   "id": "39f745f6-b450-4574-add3-d348c6e0fea2",
   "metadata": {
    "tags": []
   },
   "outputs": [],
   "source": [
    "# Use other methods to improve sentiment analysis. \n",
    "# Roberta Pretrained Model\n",
    "# Our model can be highly improvised using the pretrained Roberta model which is a \n",
    "# high level sentiment analysis model by Hugging Face. \n",
    "\n",
    "from transformers import AutoTokenizer   # helpful for tokenizing text\n",
    "from transformers import AutoModelForSequenceClassification\n",
    "from scipy.special import softmax"
   ]
  },
  {
   "cell_type": "code",
   "execution_count": 15,
   "id": "108f782a",
   "metadata": {
    "tags": []
   },
   "outputs": [],
   "source": [
    "# Loading a pretrained model from Hugging face\n",
    "preModel = f\"cardiffnlp/twitter-roberta-base-sentiment\"\n",
    "tokenizer = AutoTokenizer.from_pretrained(preModel)\n",
    "model = AutoModelForSequenceClassification.from_pretrained(preModel)"
   ]
  },
  {
   "cell_type": "code",
   "execution_count": 16,
   "id": "55c4bb7f-5ee1-49f8-bb35-8e182b0699eb",
   "metadata": {
    "tags": []
   },
   "outputs": [],
   "source": [
    "def roberta_model(text_review):\n",
    "    encoded_text = tokenizer(text_review, return_tensors='pt')\n",
    "    output = model(**encoded_text)\n",
    "    scores = output[0][0].detach().numpy()\n",
    "    scores = softmax(scores)\n",
    "    scores_dict = {\n",
    "        'roberta_neg' : scores[0],\n",
    "        'roberta_neu' : scores[1],\n",
    "        'roberta_pos' : scores[2],\n",
    "    }\n",
    "    return scores_dict"
   ]
  },
  {
   "cell_type": "code",
   "execution_count": 18,
   "id": "0740daa0-8fbc-461a-9a5b-f68c4a001781",
   "metadata": {},
   "outputs": [],
   "source": [
    "# Before running the model on our dataset, I want to remove the data entries that can potentially \n",
    "# be too big for the pretrained model. Therefore, I would be doing some data cleaning as well below. "
   ]
  },
  {
   "cell_type": "code",
   "execution_count": 20,
   "id": "4de98faa-cb2f-4ca3-b582-91eefdb3b676",
   "metadata": {
    "tags": []
   },
   "outputs": [
    {
     "data": {
      "application/vnd.jupyter.widget-view+json": {
       "model_id": "ae7adc48e0674776b303e6eb07e0588c",
       "version_major": 2,
       "version_minor": 0
      },
      "text/plain": [
       "  0%|          | 0/400 [00:00<?, ?it/s]"
      ]
     },
     "metadata": {},
     "output_type": "display_data"
    },
    {
     "name": "stdout",
     "output_type": "stream",
     "text": [
      "Broke for id 83\n",
      "Broke for id 187\n"
     ]
    }
   ],
   "source": [
    "res = {}\n",
    "for i, row in tqdm(df.iterrows(), total=len(df)):\n",
    "    try:\n",
    "        text = row['Text']\n",
    "        myid = row['Id']\n",
    "        vader_result = analyzer.polarity_scores(text)\n",
    "        vader_result_rename = {}\n",
    "        for key, value in vader_result.items():\n",
    "            vader_result_rename[f\"vader_{key}\"] = value\n",
    "        roberta_result = roberta_model(text)\n",
    "        both = {**vader_result_rename, **roberta_result}\n",
    "        res[myid] = both\n",
    "    except RuntimeError:\n",
    "        print(f'Broke for id {myid}')\n",
    "        df.drop(df[df['Id'] == myid].index)\n",
    "        \n",
    "        \n",
    "        \n",
    "    "
   ]
  },
  {
   "cell_type": "code",
   "execution_count": 21,
   "id": "7e9f08b4-bd20-4600-bbb0-d8368a5435b3",
   "metadata": {
    "tags": []
   },
   "outputs": [],
   "source": [
    "# Here I have printed those values for which the model could not process the sentiments.\n",
    "# The 83 and 187th values have been removed from the dataset. \n",
    "# Now we will see the results of the sentiments from our vader model and Roberta model. \n",
    "# I will distinguish the positive, negative and neutral values for both the models. We will compare how both the models perform. "
   ]
  },
  {
   "cell_type": "code",
   "execution_count": 22,
   "id": "392a53f0-b20c-419b-96ac-89cdd6141127",
   "metadata": {
    "tags": []
   },
   "outputs": [
    {
     "data": {
      "text/html": [
       "<div>\n",
       "<style scoped>\n",
       "    .dataframe tbody tr th:only-of-type {\n",
       "        vertical-align: middle;\n",
       "    }\n",
       "\n",
       "    .dataframe tbody tr th {\n",
       "        vertical-align: top;\n",
       "    }\n",
       "\n",
       "    .dataframe thead th {\n",
       "        text-align: right;\n",
       "    }\n",
       "</style>\n",
       "<table border=\"1\" class=\"dataframe\">\n",
       "  <thead>\n",
       "    <tr style=\"text-align: right;\">\n",
       "      <th></th>\n",
       "      <th>Id</th>\n",
       "      <th>vader_neg</th>\n",
       "      <th>vader_neu</th>\n",
       "      <th>vader_pos</th>\n",
       "      <th>vader_compound</th>\n",
       "      <th>roberta_neg</th>\n",
       "      <th>roberta_neu</th>\n",
       "      <th>roberta_pos</th>\n",
       "      <th>ProductId</th>\n",
       "      <th>UserId</th>\n",
       "      <th>ProfileName</th>\n",
       "      <th>HelpfulnessNumerator</th>\n",
       "      <th>HelpfulnessDenominator</th>\n",
       "      <th>Score</th>\n",
       "      <th>Time</th>\n",
       "      <th>Summary</th>\n",
       "      <th>Text</th>\n",
       "    </tr>\n",
       "  </thead>\n",
       "  <tbody>\n",
       "    <tr>\n",
       "      <th>0</th>\n",
       "      <td>1</td>\n",
       "      <td>0.000</td>\n",
       "      <td>0.695</td>\n",
       "      <td>0.305</td>\n",
       "      <td>0.9441</td>\n",
       "      <td>0.009624</td>\n",
       "      <td>0.049980</td>\n",
       "      <td>0.940395</td>\n",
       "      <td>B001E4KFG0</td>\n",
       "      <td>A3SGXH7AUHU8GW</td>\n",
       "      <td>delmartian</td>\n",
       "      <td>1</td>\n",
       "      <td>1</td>\n",
       "      <td>5</td>\n",
       "      <td>1303862400</td>\n",
       "      <td>Good Quality Dog Food</td>\n",
       "      <td>I have bought several of the Vitality canned d...</td>\n",
       "    </tr>\n",
       "    <tr>\n",
       "      <th>1</th>\n",
       "      <td>2</td>\n",
       "      <td>0.138</td>\n",
       "      <td>0.862</td>\n",
       "      <td>0.000</td>\n",
       "      <td>-0.5664</td>\n",
       "      <td>0.508986</td>\n",
       "      <td>0.452413</td>\n",
       "      <td>0.038600</td>\n",
       "      <td>B00813GRG4</td>\n",
       "      <td>A1D87F6ZCVE5NK</td>\n",
       "      <td>dll pa</td>\n",
       "      <td>0</td>\n",
       "      <td>0</td>\n",
       "      <td>1</td>\n",
       "      <td>1346976000</td>\n",
       "      <td>Not as Advertised</td>\n",
       "      <td>Product arrived labeled as Jumbo Salted Peanut...</td>\n",
       "    </tr>\n",
       "    <tr>\n",
       "      <th>2</th>\n",
       "      <td>3</td>\n",
       "      <td>0.091</td>\n",
       "      <td>0.754</td>\n",
       "      <td>0.155</td>\n",
       "      <td>0.8265</td>\n",
       "      <td>0.003229</td>\n",
       "      <td>0.098068</td>\n",
       "      <td>0.898704</td>\n",
       "      <td>B000LQOCH0</td>\n",
       "      <td>ABXLMWJIXXAIN</td>\n",
       "      <td>Natalia Corres \"Natalia Corres\"</td>\n",
       "      <td>1</td>\n",
       "      <td>1</td>\n",
       "      <td>4</td>\n",
       "      <td>1219017600</td>\n",
       "      <td>\"Delight\" says it all</td>\n",
       "      <td>This is a confection that has been around a fe...</td>\n",
       "    </tr>\n",
       "    <tr>\n",
       "      <th>3</th>\n",
       "      <td>4</td>\n",
       "      <td>0.000</td>\n",
       "      <td>1.000</td>\n",
       "      <td>0.000</td>\n",
       "      <td>0.0000</td>\n",
       "      <td>0.002295</td>\n",
       "      <td>0.090219</td>\n",
       "      <td>0.907486</td>\n",
       "      <td>B000UA0QIQ</td>\n",
       "      <td>A395BORC6FGVXV</td>\n",
       "      <td>Karl</td>\n",
       "      <td>3</td>\n",
       "      <td>3</td>\n",
       "      <td>2</td>\n",
       "      <td>1307923200</td>\n",
       "      <td>Cough Medicine</td>\n",
       "      <td>If you are looking for the secret ingredient i...</td>\n",
       "    </tr>\n",
       "    <tr>\n",
       "      <th>4</th>\n",
       "      <td>5</td>\n",
       "      <td>0.000</td>\n",
       "      <td>0.552</td>\n",
       "      <td>0.448</td>\n",
       "      <td>0.9468</td>\n",
       "      <td>0.001635</td>\n",
       "      <td>0.010302</td>\n",
       "      <td>0.988063</td>\n",
       "      <td>B006K2ZZ7K</td>\n",
       "      <td>A1UQRSCLF8GW1T</td>\n",
       "      <td>Michael D. Bigham \"M. Wassir\"</td>\n",
       "      <td>0</td>\n",
       "      <td>0</td>\n",
       "      <td>5</td>\n",
       "      <td>1350777600</td>\n",
       "      <td>Great taffy</td>\n",
       "      <td>Great taffy at a great price.  There was a wid...</td>\n",
       "    </tr>\n",
       "  </tbody>\n",
       "</table>\n",
       "</div>"
      ],
      "text/plain": [
       "   Id  vader_neg  vader_neu  vader_pos  vader_compound  roberta_neg  \\\n",
       "0   1      0.000      0.695      0.305          0.9441     0.009624   \n",
       "1   2      0.138      0.862      0.000         -0.5664     0.508986   \n",
       "2   3      0.091      0.754      0.155          0.8265     0.003229   \n",
       "3   4      0.000      1.000      0.000          0.0000     0.002295   \n",
       "4   5      0.000      0.552      0.448          0.9468     0.001635   \n",
       "\n",
       "   roberta_neu  roberta_pos   ProductId          UserId  \\\n",
       "0     0.049980     0.940395  B001E4KFG0  A3SGXH7AUHU8GW   \n",
       "1     0.452413     0.038600  B00813GRG4  A1D87F6ZCVE5NK   \n",
       "2     0.098068     0.898704  B000LQOCH0   ABXLMWJIXXAIN   \n",
       "3     0.090219     0.907486  B000UA0QIQ  A395BORC6FGVXV   \n",
       "4     0.010302     0.988063  B006K2ZZ7K  A1UQRSCLF8GW1T   \n",
       "\n",
       "                       ProfileName  HelpfulnessNumerator  \\\n",
       "0                       delmartian                     1   \n",
       "1                           dll pa                     0   \n",
       "2  Natalia Corres \"Natalia Corres\"                     1   \n",
       "3                             Karl                     3   \n",
       "4    Michael D. Bigham \"M. Wassir\"                     0   \n",
       "\n",
       "   HelpfulnessDenominator  Score        Time                Summary  \\\n",
       "0                       1      5  1303862400  Good Quality Dog Food   \n",
       "1                       0      1  1346976000      Not as Advertised   \n",
       "2                       1      4  1219017600  \"Delight\" says it all   \n",
       "3                       3      2  1307923200         Cough Medicine   \n",
       "4                       0      5  1350777600            Great taffy   \n",
       "\n",
       "                                                Text  \n",
       "0  I have bought several of the Vitality canned d...  \n",
       "1  Product arrived labeled as Jumbo Salted Peanut...  \n",
       "2  This is a confection that has been around a fe...  \n",
       "3  If you are looking for the secret ingredient i...  \n",
       "4  Great taffy at a great price.  There was a wid...  "
      ]
     },
     "execution_count": 22,
     "metadata": {},
     "output_type": "execute_result"
    }
   ],
   "source": [
    "result_df = pd.DataFrame(res).T\n",
    "result_df = result_df.reset_index().rename(columns = {'index': 'Id'})\n",
    "result_df = result_df.merge(df, how='left')\n",
    "result_df.head()"
   ]
  },
  {
   "cell_type": "code",
   "execution_count": 23,
   "id": "fc09b92a-d4f4-43ad-8131-6523a3581ea2",
   "metadata": {
    "tags": []
   },
   "outputs": [
    {
     "name": "stdout",
     "output_type": "stream",
     "text": [
      "I have bought several of the Vitality canned dog food products and have found them all to be of good quality. The product looks more like a stew than a processed meat and it smells better. My Labrador is finicky and she appreciates this product better than  most.\n"
     ]
    }
   ],
   "source": [
    "# As we can see the Roberta model displays the score of the text values with much more certainity. For Eg. for the first text review which is supposedly positive review. \n",
    "# Vader reports the score of 0.305 whereas, Roberta reports the score as 0.9441, which is a much more certain estimate. \n",
    "# Now lets print the first text review and see! Is that actually a positive review ?\n",
    "first_review = df['Text'][0]\n",
    "print(first_review)"
   ]
  },
  {
   "cell_type": "code",
   "execution_count": 24,
   "id": "a5c48439-02e2-4737-bda4-450f651be09b",
   "metadata": {
    "tags": []
   },
   "outputs": [],
   "source": [
    "# Yes, the review is indeed positive!"
   ]
  },
  {
   "cell_type": "code",
   "execution_count": 25,
   "id": "db938128-ba2f-4d36-a656-07b24efdaa82",
   "metadata": {},
   "outputs": [],
   "source": [
    "# Conclusion \n",
    "'''\n",
    "In conclusion, the application of Natural Language Processing (NLP) models, specifically Vader and Roberta, on Amazon Reviews reveals notable insights. \n",
    "The utilization of these pretrained models aimed to discern sentiment and extract meaningful information from the vast array of customer reviews. \n",
    "Through rigorous evaluation, it becomes evident that Roberta consistently outperforms Vader in this context.\n",
    "\n",
    "Roberta's superior performance can be attributed to its advanced architecture and fine-tuning capabilities, \n",
    "allowing it to capture nuanced patterns and context within the Amazon Reviews dataset. \n",
    "The model's ability to grasp intricate language structures and contextual nuances enables more accurate sentiment analysis and information extraction.\n",
    "''';"
   ]
  },
  {
   "cell_type": "code",
   "execution_count": 26,
   "id": "14946bed-08de-459d-8587-4060732631db",
   "metadata": {
    "tags": []
   },
   "outputs": [],
   "source": [
    "# Data Citation\n",
    "'''\n",
    "STANFORD NETWORK ANALYSIS PROJECT. ([2017; 01]). “Amazon Fine Food Reviews”, Version 2. Retrieved 02/25/2024 from https://www.kaggle.com/datasets/snap/amazon-fine-food-reviews.\n",
    "''';"
   ]
  }
 ],
 "metadata": {
  "kernelspec": {
   "display_name": "jupyenv",
   "language": "python",
   "name": "jupyenv"
  },
  "language_info": {
   "codemirror_mode": {
    "name": "ipython",
    "version": 3
   },
   "file_extension": ".py",
   "mimetype": "text/x-python",
   "name": "python",
   "nbconvert_exporter": "python",
   "pygments_lexer": "ipython3",
   "version": "3.11.5"
  }
 },
 "nbformat": 4,
 "nbformat_minor": 5
}
